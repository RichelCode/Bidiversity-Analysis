{
 "cells": [
  {
   "cell_type": "markdown",
   "id": "ddc9d25a",
   "metadata": {},
   "source": [
    "# **Project Title: Biodiversity and Species Observations Analysis**\n",
    "\n",
    "## **Introduction:**  \n",
    "In this project, we analyze data from two datasets: `observations.csv` and `species_info.csv`. The goal of this analysis is to explore biodiversity trends across national parks, focusing on species diversity, conservation status, and species observations. By answering key analytical questions, we aim to uncover insights that can inform biodiversity preservation strategies.\n",
    "\n",
    "#### **Datasets Overview:**  \n",
    "- **`observations.csv`**: Contains information on species observations across different national parks, including:\n",
    "  - `scientific_name`: The scientific name of the species.\n",
    "  - `park_name`: The national park where the observation occurred.\n",
    "  - `observations`: The number of times the species was observed.\n",
    "\n",
    "- **`species_info.csv`**: Provides detailed information about species, including:\n",
    "  - `category`: The biological category (e.g., Mammal, Bird) of the species.\n",
    "  - `scientific_name`: The scientific name of the species.\n",
    "  - `common_names`: Common names of the species.\n",
    "  - `conservation_status`: The conservation status of the species (e.g., Endangered, Threatened).\n",
    "\n",
    "\n",
    "#### **Objectives:**  \n",
    "This analysis focuses on the following key questions:\n",
    "1. Which parks have the highest and lowest number of species observations?\n",
    "2. What is the distribution of species by conservation status?\n",
    "3. What is the distribution of `conservation_status` for animals?\n",
    "4. Are certain types of species more likely to be endangered?\n",
    "5. Are the differences between species and their conservation status significant?\n",
    "6. Which species are observed most frequently at each park?\n",
    "\n",
    "\n",
    "#### **Project Workflow:**  \n",
    "The project is structured as follows:\n",
    "1. **Data Loading and Exploration:** We load and preview the datasets to understand their structure and characteristics.\n",
    "2. **Data Cleaning:** We handle missing values and inconsistencies to ensure accurate analysis.\n",
    "3. **Exploratory Data Analysis (EDA):** We visualize data trends, including species distribution, park-specific observations, and conservation status.\n",
    "4. **Key Insights:** We analyze the distribution of conservation statuses, endangered species by category, and species observation trends at each park.\n",
    "5. **Conclusions:** We draw insights from the analysis to answer key questions and summarize findings for further presentation and documentation.\n"
   ]
  },
  {
   "cell_type": "markdown",
   "id": "6666eff6",
   "metadata": {},
   "source": [
    "# Import Python Modules"
   ]
  },
  {
   "cell_type": "code",
   "execution_count": 1,
   "id": "89ac39be",
   "metadata": {},
   "outputs": [],
   "source": [
    "import pandas as pd\n",
    "import matplotlib.pyplot as plt\n",
    "import seaborn as sns\n",
    "from sklearn.experimental import enable_iterative_imputer\n",
    "from sklearn.impute import IterativeImputer\n",
    "from sklearn.preprocessing import LabelEncoder"
   ]
  },
  {
   "cell_type": "markdown",
   "id": "596197c4",
   "metadata": {},
   "source": [
    "# Loading the Dataset"
   ]
  },
  {
   "cell_type": "code",
   "execution_count": 2,
   "id": "29cee871",
   "metadata": {},
   "outputs": [
    {
     "data": {
      "text/html": [
       "<div>\n",
       "<style scoped>\n",
       "    .dataframe tbody tr th:only-of-type {\n",
       "        vertical-align: middle;\n",
       "    }\n",
       "\n",
       "    .dataframe tbody tr th {\n",
       "        vertical-align: top;\n",
       "    }\n",
       "\n",
       "    .dataframe thead th {\n",
       "        text-align: right;\n",
       "    }\n",
       "</style>\n",
       "<table border=\"1\" class=\"dataframe\">\n",
       "  <thead>\n",
       "    <tr style=\"text-align: right;\">\n",
       "      <th></th>\n",
       "      <th>category</th>\n",
       "      <th>scientific_name</th>\n",
       "      <th>common_names</th>\n",
       "      <th>conservation_status</th>\n",
       "    </tr>\n",
       "  </thead>\n",
       "  <tbody>\n",
       "    <tr>\n",
       "      <th>0</th>\n",
       "      <td>Mammal</td>\n",
       "      <td>Clethrionomys gapperi gapperi</td>\n",
       "      <td>Gapper's Red-Backed Vole</td>\n",
       "      <td>NaN</td>\n",
       "    </tr>\n",
       "    <tr>\n",
       "      <th>1</th>\n",
       "      <td>Mammal</td>\n",
       "      <td>Bos bison</td>\n",
       "      <td>American Bison, Bison</td>\n",
       "      <td>NaN</td>\n",
       "    </tr>\n",
       "    <tr>\n",
       "      <th>2</th>\n",
       "      <td>Mammal</td>\n",
       "      <td>Bos taurus</td>\n",
       "      <td>Aurochs, Aurochs, Domestic Cattle (Feral), Dom...</td>\n",
       "      <td>NaN</td>\n",
       "    </tr>\n",
       "    <tr>\n",
       "      <th>3</th>\n",
       "      <td>Mammal</td>\n",
       "      <td>Ovis aries</td>\n",
       "      <td>Domestic Sheep, Mouflon, Red Sheep, Sheep (Feral)</td>\n",
       "      <td>NaN</td>\n",
       "    </tr>\n",
       "    <tr>\n",
       "      <th>4</th>\n",
       "      <td>Mammal</td>\n",
       "      <td>Cervus elaphus</td>\n",
       "      <td>Wapiti Or Elk</td>\n",
       "      <td>NaN</td>\n",
       "    </tr>\n",
       "  </tbody>\n",
       "</table>\n",
       "</div>"
      ],
      "text/plain": [
       "  category                scientific_name  \\\n",
       "0   Mammal  Clethrionomys gapperi gapperi   \n",
       "1   Mammal                      Bos bison   \n",
       "2   Mammal                     Bos taurus   \n",
       "3   Mammal                     Ovis aries   \n",
       "4   Mammal                 Cervus elaphus   \n",
       "\n",
       "                                        common_names conservation_status  \n",
       "0                           Gapper's Red-Backed Vole                 NaN  \n",
       "1                              American Bison, Bison                 NaN  \n",
       "2  Aurochs, Aurochs, Domestic Cattle (Feral), Dom...                 NaN  \n",
       "3  Domestic Sheep, Mouflon, Red Sheep, Sheep (Feral)                 NaN  \n",
       "4                                      Wapiti Or Elk                 NaN  "
      ]
     },
     "execution_count": 2,
     "metadata": {},
     "output_type": "execute_result"
    }
   ],
   "source": [
    "species = pd.read_csv(\"C:\\\\Users\\\\EWURA\\\\Desktop\\\\Bidervisity Portfolio Project\\\\species_info.csv\")\n",
    "species.head()"
   ]
  },
  {
   "cell_type": "code",
   "execution_count": 3,
   "id": "1494e8fe",
   "metadata": {},
   "outputs": [
    {
     "data": {
      "text/html": [
       "<div>\n",
       "<style scoped>\n",
       "    .dataframe tbody tr th:only-of-type {\n",
       "        vertical-align: middle;\n",
       "    }\n",
       "\n",
       "    .dataframe tbody tr th {\n",
       "        vertical-align: top;\n",
       "    }\n",
       "\n",
       "    .dataframe thead th {\n",
       "        text-align: right;\n",
       "    }\n",
       "</style>\n",
       "<table border=\"1\" class=\"dataframe\">\n",
       "  <thead>\n",
       "    <tr style=\"text-align: right;\">\n",
       "      <th></th>\n",
       "      <th>scientific_name</th>\n",
       "      <th>park_name</th>\n",
       "      <th>observations</th>\n",
       "    </tr>\n",
       "  </thead>\n",
       "  <tbody>\n",
       "    <tr>\n",
       "      <th>0</th>\n",
       "      <td>Vicia benghalensis</td>\n",
       "      <td>Great Smoky Mountains National Park</td>\n",
       "      <td>68</td>\n",
       "    </tr>\n",
       "    <tr>\n",
       "      <th>1</th>\n",
       "      <td>Neovison vison</td>\n",
       "      <td>Great Smoky Mountains National Park</td>\n",
       "      <td>77</td>\n",
       "    </tr>\n",
       "    <tr>\n",
       "      <th>2</th>\n",
       "      <td>Prunus subcordata</td>\n",
       "      <td>Yosemite National Park</td>\n",
       "      <td>138</td>\n",
       "    </tr>\n",
       "    <tr>\n",
       "      <th>3</th>\n",
       "      <td>Abutilon theophrasti</td>\n",
       "      <td>Bryce National Park</td>\n",
       "      <td>84</td>\n",
       "    </tr>\n",
       "    <tr>\n",
       "      <th>4</th>\n",
       "      <td>Githopsis specularioides</td>\n",
       "      <td>Great Smoky Mountains National Park</td>\n",
       "      <td>85</td>\n",
       "    </tr>\n",
       "  </tbody>\n",
       "</table>\n",
       "</div>"
      ],
      "text/plain": [
       "            scientific_name                            park_name  observations\n",
       "0        Vicia benghalensis  Great Smoky Mountains National Park            68\n",
       "1            Neovison vison  Great Smoky Mountains National Park            77\n",
       "2         Prunus subcordata               Yosemite National Park           138\n",
       "3      Abutilon theophrasti                  Bryce National Park            84\n",
       "4  Githopsis specularioides  Great Smoky Mountains National Park            85"
      ]
     },
     "execution_count": 3,
     "metadata": {},
     "output_type": "execute_result"
    }
   ],
   "source": [
    "observations = pd.read_csv(\"C:\\\\Users\\\\EWURA\\\\Desktop\\\\Bidervisity Portfolio Project\\\\observations.csv\")\n",
    "observations.head()"
   ]
  },
  {
   "cell_type": "markdown",
   "id": "048a50ed",
   "metadata": {},
   "source": [
    "# Previewing the Data"
   ]
  },
  {
   "cell_type": "code",
   "execution_count": 4,
   "id": "537b8d80",
   "metadata": {},
   "outputs": [
    {
     "data": {
      "text/plain": [
       "(5824, 4)"
      ]
     },
     "execution_count": 4,
     "metadata": {},
     "output_type": "execute_result"
    }
   ],
   "source": [
    "species.shape"
   ]
  },
  {
   "cell_type": "code",
   "execution_count": 5,
   "id": "3408ac40",
   "metadata": {},
   "outputs": [
    {
     "data": {
      "text/plain": [
       "(23296, 3)"
      ]
     },
     "execution_count": 5,
     "metadata": {},
     "output_type": "execute_result"
    }
   ],
   "source": [
    "observations.shape"
   ]
  },
  {
   "cell_type": "code",
   "execution_count": 6,
   "id": "e80cf566",
   "metadata": {},
   "outputs": [
    {
     "name": "stdout",
     "output_type": "stream",
     "text": [
      "<class 'pandas.core.frame.DataFrame'>\n",
      "RangeIndex: 5824 entries, 0 to 5823\n",
      "Data columns (total 4 columns):\n",
      " #   Column               Non-Null Count  Dtype \n",
      "---  ------               --------------  ----- \n",
      " 0   category             5824 non-null   object\n",
      " 1   scientific_name      5824 non-null   object\n",
      " 2   common_names         5824 non-null   object\n",
      " 3   conservation_status  191 non-null    object\n",
      "dtypes: object(4)\n",
      "memory usage: 182.1+ KB\n"
     ]
    }
   ],
   "source": [
    "species.info()"
   ]
  },
  {
   "cell_type": "markdown",
   "id": "9f459649",
   "metadata": {},
   "source": [
    " From the results only the conservation_status has missing values. The other columns have no missing entries."
   ]
  },
  {
   "cell_type": "code",
   "execution_count": 7,
   "id": "ce055aea",
   "metadata": {},
   "outputs": [
    {
     "name": "stdout",
     "output_type": "stream",
     "text": [
      "<class 'pandas.core.frame.DataFrame'>\n",
      "RangeIndex: 23296 entries, 0 to 23295\n",
      "Data columns (total 3 columns):\n",
      " #   Column           Non-Null Count  Dtype \n",
      "---  ------           --------------  ----- \n",
      " 0   scientific_name  23296 non-null  object\n",
      " 1   park_name        23296 non-null  object\n",
      " 2   observations     23296 non-null  int64 \n",
      "dtypes: int64(1), object(2)\n",
      "memory usage: 546.1+ KB\n"
     ]
    }
   ],
   "source": [
    "observations.info()"
   ]
  },
  {
   "cell_type": "markdown",
   "id": "01ff826a",
   "metadata": {},
   "source": [
    "There are no missing values from the observations dataset"
   ]
  },
  {
   "cell_type": "code",
   "execution_count": 8,
   "id": "dec0689c",
   "metadata": {},
   "outputs": [
    {
     "data": {
      "text/plain": [
       "array(['Mammal', 'Bird', 'Reptile', 'Amphibian', 'Fish', 'Vascular Plant',\n",
       "       'Nonvascular Plant'], dtype=object)"
      ]
     },
     "execution_count": 8,
     "metadata": {},
     "output_type": "execute_result"
    }
   ],
   "source": [
    "species.category.unique()"
   ]
  },
  {
   "cell_type": "code",
   "execution_count": 9,
   "id": "ac25396b",
   "metadata": {},
   "outputs": [
    {
     "data": {
      "text/plain": [
       "array([nan, 'Species of Concern', 'Endangered', 'Threatened',\n",
       "       'In Recovery'], dtype=object)"
      ]
     },
     "execution_count": 9,
     "metadata": {},
     "output_type": "execute_result"
    }
   ],
   "source": [
    "species.conservation_status.unique()"
   ]
  },
  {
   "cell_type": "code",
   "execution_count": 10,
   "id": "63e2e360",
   "metadata": {},
   "outputs": [
    {
     "data": {
      "text/plain": [
       "array(['Great Smoky Mountains National Park', 'Yosemite National Park',\n",
       "       'Bryce National Park', 'Yellowstone National Park'], dtype=object)"
      ]
     },
     "execution_count": 10,
     "metadata": {},
     "output_type": "execute_result"
    }
   ],
   "source": [
    "observations.park_name.unique()"
   ]
  },
  {
   "cell_type": "code",
   "execution_count": 11,
   "id": "fa356f7e",
   "metadata": {},
   "outputs": [
    {
     "data": {
      "text/plain": [
       "category\n",
       "Amphibian              80\n",
       "Bird                  521\n",
       "Fish                  127\n",
       "Mammal                214\n",
       "Nonvascular Plant     333\n",
       "Reptile                79\n",
       "Vascular Plant       4470\n",
       "dtype: int64"
      ]
     },
     "execution_count": 11,
     "metadata": {},
     "output_type": "execute_result"
    }
   ],
   "source": [
    "species.groupby(\"category\").size()"
   ]
  },
  {
   "cell_type": "code",
   "execution_count": 12,
   "id": "f6639830",
   "metadata": {},
   "outputs": [],
   "source": [
    "## From the results Vascular Plant forms a large part of our species in the dataset."
   ]
  },
  {
   "cell_type": "code",
   "execution_count": 13,
   "id": "bab81b4c",
   "metadata": {},
   "outputs": [
    {
     "data": {
      "text/plain": [
       "conservation_status\n",
       "Endangered             16\n",
       "In Recovery             4\n",
       "Species of Concern    161\n",
       "Threatened             10\n",
       "dtype: int64"
      ]
     },
     "execution_count": 13,
     "metadata": {},
     "output_type": "execute_result"
    }
   ],
   "source": [
    "species.groupby(\"conservation_status\").size()"
   ]
  },
  {
   "cell_type": "code",
   "execution_count": 14,
   "id": "6520054e",
   "metadata": {},
   "outputs": [
    {
     "name": "stdout",
     "output_type": "stream",
     "text": [
      "Missing values in conservation_status: 5633\n"
     ]
    }
   ],
   "source": [
    "missing_conservation_count = species['conservation_status'].isnull().sum()\n",
    "print(f\"Missing values in conservation_status: {missing_conservation_count}\")"
   ]
  },
  {
   "cell_type": "markdown",
   "id": "15562274",
   "metadata": {},
   "source": [
    "## Exploratory Data Analysis"
   ]
  },
  {
   "cell_type": "code",
   "execution_count": 15,
   "id": "24172aec",
   "metadata": {},
   "outputs": [
    {
     "data": {
      "text/html": [
       "<div>\n",
       "<style scoped>\n",
       "    .dataframe tbody tr th:only-of-type {\n",
       "        vertical-align: middle;\n",
       "    }\n",
       "\n",
       "    .dataframe tbody tr th {\n",
       "        vertical-align: top;\n",
       "    }\n",
       "\n",
       "    .dataframe thead th {\n",
       "        text-align: right;\n",
       "    }\n",
       "</style>\n",
       "<table border=\"1\" class=\"dataframe\">\n",
       "  <thead>\n",
       "    <tr style=\"text-align: right;\">\n",
       "      <th></th>\n",
       "      <th>category</th>\n",
       "      <th>scientific_name</th>\n",
       "      <th>common_names</th>\n",
       "      <th>conservation_status</th>\n",
       "    </tr>\n",
       "  </thead>\n",
       "  <tbody>\n",
       "    <tr>\n",
       "      <th>count</th>\n",
       "      <td>5824</td>\n",
       "      <td>5824</td>\n",
       "      <td>5824</td>\n",
       "      <td>191</td>\n",
       "    </tr>\n",
       "    <tr>\n",
       "      <th>unique</th>\n",
       "      <td>7</td>\n",
       "      <td>5541</td>\n",
       "      <td>5504</td>\n",
       "      <td>4</td>\n",
       "    </tr>\n",
       "    <tr>\n",
       "      <th>top</th>\n",
       "      <td>Vascular Plant</td>\n",
       "      <td>Castor canadensis</td>\n",
       "      <td>Brachythecium Moss</td>\n",
       "      <td>Species of Concern</td>\n",
       "    </tr>\n",
       "    <tr>\n",
       "      <th>freq</th>\n",
       "      <td>4470</td>\n",
       "      <td>3</td>\n",
       "      <td>7</td>\n",
       "      <td>161</td>\n",
       "    </tr>\n",
       "  </tbody>\n",
       "</table>\n",
       "</div>"
      ],
      "text/plain": [
       "              category    scientific_name        common_names  \\\n",
       "count             5824               5824                5824   \n",
       "unique               7               5541                5504   \n",
       "top     Vascular Plant  Castor canadensis  Brachythecium Moss   \n",
       "freq              4470                  3                   7   \n",
       "\n",
       "       conservation_status  \n",
       "count                  191  \n",
       "unique                   4  \n",
       "top     Species of Concern  \n",
       "freq                   161  "
      ]
     },
     "execution_count": 15,
     "metadata": {},
     "output_type": "execute_result"
    }
   ],
   "source": [
    "species.describe()"
   ]
  },
  {
   "cell_type": "code",
   "execution_count": 16,
   "id": "bd2bb400",
   "metadata": {},
   "outputs": [
    {
     "data": {
      "text/html": [
       "<div>\n",
       "<style scoped>\n",
       "    .dataframe tbody tr th:only-of-type {\n",
       "        vertical-align: middle;\n",
       "    }\n",
       "\n",
       "    .dataframe tbody tr th {\n",
       "        vertical-align: top;\n",
       "    }\n",
       "\n",
       "    .dataframe thead th {\n",
       "        text-align: right;\n",
       "    }\n",
       "</style>\n",
       "<table border=\"1\" class=\"dataframe\">\n",
       "  <thead>\n",
       "    <tr style=\"text-align: right;\">\n",
       "      <th></th>\n",
       "      <th>observations</th>\n",
       "    </tr>\n",
       "  </thead>\n",
       "  <tbody>\n",
       "    <tr>\n",
       "      <th>count</th>\n",
       "      <td>23296.000000</td>\n",
       "    </tr>\n",
       "    <tr>\n",
       "      <th>mean</th>\n",
       "      <td>142.287904</td>\n",
       "    </tr>\n",
       "    <tr>\n",
       "      <th>std</th>\n",
       "      <td>69.890532</td>\n",
       "    </tr>\n",
       "    <tr>\n",
       "      <th>min</th>\n",
       "      <td>9.000000</td>\n",
       "    </tr>\n",
       "    <tr>\n",
       "      <th>25%</th>\n",
       "      <td>86.000000</td>\n",
       "    </tr>\n",
       "    <tr>\n",
       "      <th>50%</th>\n",
       "      <td>124.000000</td>\n",
       "    </tr>\n",
       "    <tr>\n",
       "      <th>75%</th>\n",
       "      <td>195.000000</td>\n",
       "    </tr>\n",
       "    <tr>\n",
       "      <th>max</th>\n",
       "      <td>321.000000</td>\n",
       "    </tr>\n",
       "  </tbody>\n",
       "</table>\n",
       "</div>"
      ],
      "text/plain": [
       "       observations\n",
       "count  23296.000000\n",
       "mean     142.287904\n",
       "std       69.890532\n",
       "min        9.000000\n",
       "25%       86.000000\n",
       "50%      124.000000\n",
       "75%      195.000000\n",
       "max      321.000000"
      ]
     },
     "execution_count": 16,
     "metadata": {},
     "output_type": "execute_result"
    }
   ],
   "source": [
    "observations.describe()"
   ]
  },
  {
   "cell_type": "markdown",
   "id": "4c1d8e22",
   "metadata": {},
   "source": [
    "### **Data Cleaning and Exploration: Conservation Status Column**\n",
    "\n",
    "This section focuses on analyzing and cleaning the `conservation_status` column from the `species` dataset. After the initial exploration, it was observed that this column contains several possible values, each representing a different conservation classification:\n",
    "\n",
    "- **Species of Concern:** Species that are declining or appear to require conservation efforts.\n",
    "- **Threatened:** Species that are vulnerable and at risk of becoming endangered in the near future.\n",
    "- **Endangered:** Species that are seriously at risk of extinction.\n",
    "- **In Recovery:** Species that were previously classified as endangered but are no longer at immediate risk of extinction across all or a significant portion of their range.\n",
    "\n",
    "During the exploration, a significant number of **missing values (`NaN`)** were detected in this column. To ensure consistency in the data, these missing values will be replaced with a new category labeled **\"No Intervention\"**. This label indicates that no immediate conservation action is currently required for these species.\n"
   ]
  },
  {
   "cell_type": "code",
   "execution_count": 18,
   "id": "c2240caf",
   "metadata": {},
   "outputs": [],
   "source": [
    "species['conservation_status'].fillna('No Intervention', inplace=True)\n"
   ]
  },
  {
   "cell_type": "code",
   "execution_count": 19,
   "id": "49f999d2",
   "metadata": {},
   "outputs": [
    {
     "data": {
      "text/html": [
       "<div>\n",
       "<style scoped>\n",
       "    .dataframe tbody tr th:only-of-type {\n",
       "        vertical-align: middle;\n",
       "    }\n",
       "\n",
       "    .dataframe tbody tr th {\n",
       "        vertical-align: top;\n",
       "    }\n",
       "\n",
       "    .dataframe thead th {\n",
       "        text-align: right;\n",
       "    }\n",
       "</style>\n",
       "<table border=\"1\" class=\"dataframe\">\n",
       "  <thead>\n",
       "    <tr style=\"text-align: right;\">\n",
       "      <th>category</th>\n",
       "      <th>Amphibian</th>\n",
       "      <th>Bird</th>\n",
       "      <th>Fish</th>\n",
       "      <th>Mammal</th>\n",
       "      <th>Nonvascular Plant</th>\n",
       "      <th>Reptile</th>\n",
       "      <th>Vascular Plant</th>\n",
       "    </tr>\n",
       "    <tr>\n",
       "      <th>conservation_status</th>\n",
       "      <th></th>\n",
       "      <th></th>\n",
       "      <th></th>\n",
       "      <th></th>\n",
       "      <th></th>\n",
       "      <th></th>\n",
       "      <th></th>\n",
       "    </tr>\n",
       "  </thead>\n",
       "  <tbody>\n",
       "    <tr>\n",
       "      <th>Endangered</th>\n",
       "      <td>1.0</td>\n",
       "      <td>4.0</td>\n",
       "      <td>3.0</td>\n",
       "      <td>7.0</td>\n",
       "      <td>NaN</td>\n",
       "      <td>NaN</td>\n",
       "      <td>1.0</td>\n",
       "    </tr>\n",
       "    <tr>\n",
       "      <th>In Recovery</th>\n",
       "      <td>NaN</td>\n",
       "      <td>3.0</td>\n",
       "      <td>NaN</td>\n",
       "      <td>1.0</td>\n",
       "      <td>NaN</td>\n",
       "      <td>NaN</td>\n",
       "      <td>NaN</td>\n",
       "    </tr>\n",
       "    <tr>\n",
       "      <th>Species of Concern</th>\n",
       "      <td>4.0</td>\n",
       "      <td>72.0</td>\n",
       "      <td>4.0</td>\n",
       "      <td>28.0</td>\n",
       "      <td>5.0</td>\n",
       "      <td>5.0</td>\n",
       "      <td>43.0</td>\n",
       "    </tr>\n",
       "    <tr>\n",
       "      <th>Threatened</th>\n",
       "      <td>2.0</td>\n",
       "      <td>NaN</td>\n",
       "      <td>4.0</td>\n",
       "      <td>2.0</td>\n",
       "      <td>NaN</td>\n",
       "      <td>NaN</td>\n",
       "      <td>2.0</td>\n",
       "    </tr>\n",
       "  </tbody>\n",
       "</table>\n",
       "</div>"
      ],
      "text/plain": [
       "category             Amphibian  Bird  Fish  Mammal  Nonvascular Plant  \\\n",
       "conservation_status                                                     \n",
       "Endangered                 1.0   4.0   3.0     7.0                NaN   \n",
       "In Recovery                NaN   3.0   NaN     1.0                NaN   \n",
       "Species of Concern         4.0  72.0   4.0    28.0                5.0   \n",
       "Threatened                 2.0   NaN   4.0     2.0                NaN   \n",
       "\n",
       "category             Reptile  Vascular Plant  \n",
       "conservation_status                           \n",
       "Endangered               NaN             1.0  \n",
       "In Recovery              NaN             NaN  \n",
       "Species of Concern       5.0            43.0  \n",
       "Threatened               NaN             2.0  "
      ]
     },
     "execution_count": 19,
     "metadata": {},
     "output_type": "execute_result"
    }
   ],
   "source": [
    "conservationCategory = species[species.conservation_status != \"No Intervention\"]\\\n",
    "    .groupby([\"conservation_status\", \"category\"])['scientific_name']\\\n",
    "    .count()\\\n",
    "    .unstack()\n",
    "\n",
    "conservationCategory"
   ]
  },
  {
   "cell_type": "markdown",
   "id": "f70a9525",
   "metadata": {},
   "source": [
    "### **Explanation of Results:**\n",
    "\n",
    "1. **MISSING Category**\n",
    "   - **Definition:** This represents species with previously missing conservation statuses, now labeled as `'No Intervention''.\n",
    "   - **Findings:** \n",
    "     - A large number of **vascular plant species** (over 4000) have a missing status, by far the largest count.\n",
    "     - Other categories such as **birds** and **mammals** also have many missing entries.\n",
    "     - This suggests that plants and certain animal categories were under-assessed or lacked documentation for conservation evaluation.\n",
    "\n",
    "2. **Endangered Species**\n",
    "   - **Definition:** Species at serious risk of extinction.\n",
    "   - **Findings:**\n",
    "     - **Mammals** have the highest number of endangered species, followed by **birds** and **fish**.\n",
    "     - **Plants** also have some representation, but categories like **reptiles** and **nonvascular plants** have no entries.\n",
    "\n",
    "3. **In Recovery**\n",
    "   - **Definition:** Species that were once endangered but are no longer in immediate danger of extinction.\n",
    "   - **Findings:**  \n",
    "     - Only **4 species** are categorized as \"In Recovery\":\n",
    "       - **Birds:** 3 species\n",
    "       - **Mammals:** 1 species\n",
    "     - No other categories are currently classified under this status.\n",
    "\n",
    "4. **Species of Concern**\n",
    "   - **Definition:** Species that are declining or may need conservation but are not yet officially endangered or threatened.\n",
    "   - **Findings:**\n",
    "     - **Birds** and **mammals** have the most species of concern.\n",
    "     - Other categories, such as **amphibians**, **fish**, and **vascular plants**, have fewer species.\n",
    "\n",
    "5. **Threatened Species**\n",
    "   - **Definition:** Species that are vulnerable to becoming endangered in the near future.\n",
    "   - **Findings:**  \n",
    "     - Only a few species are categorized as threatened across all groups:\n",
    "       - **Fish**\n",
    "       - **Amphibians**\n",
    "       - **Mammals**\n",
    "       - **Vascular Plants**\n",
    "\n",
    "\n",
    "### **Key Insights:**\n",
    "\n",
    "1. **Plants Are Underrepresented:**  \n",
    "   Vascular plants dominate the \"MISSING\" category, indicating either a lack of evaluation or missing documentation for many plant species.\n",
    "   \n",
    "2. **Mammals and Birds Are Heavily Evaluated:**  \n",
    "   - These groups have a relatively high number of species across multiple conservation categories, including \"Endangered\" and \"Species of Concern.\"\n",
    "   - Birds have multiple species in the \"In Recovery\" status, which could reflect successful conservation efforts.\n",
    "\n",
    "3. **Certain Categories Lack Representation:**  \n",
    "   - Reptiles and nonvascular plants have few or no entries in most conservation statuses, suggesting limited conservation assessments for these groups."
   ]
  },
  {
   "cell_type": "code",
   "execution_count": 20,
   "id": "6788ee08",
   "metadata": {},
   "outputs": [
    {
     "data": {
      "image/png": "[encoded data removed]",
      "text/plain": [
       "<Figure size 576x432 with 1 Axes>"
      ]
     },
     "metadata": {
      "needs_background": "light"
     },
     "output_type": "display_data"
    }
   ],
   "source": [
    "ax = conservationCategory.plot(kind = 'bar', figsize=(8,6), \n",
    "                               stacked=True)\n",
    "ax.set_xlabel(\"Conservation Status\")\n",
    "ax.set_ylabel(\"Number of Species\");"
   ]
  },
  {
   "cell_type": "code",
   "execution_count": 22,
   "id": "d9e1a51f",
   "metadata": {},
   "outputs": [
    {
     "name": "stdout",
     "output_type": "stream",
     "text": [
      "Park with lowest species observations: park_name\n",
      "Great Smoky Mountains National Park    431820\n",
      "Name: observations, dtype: int64\n",
      "Park with highest species observations: park_name\n",
      "Yellowstone National Park    1443562\n",
      "Name: observations, dtype: int64\n"
     ]
    },
    {
     "data": {
      "image/png": "[encoded data removed]",
      "text/plain": [
       "<Figure size 720x432 with 1 Axes>"
      ]
     },
     "metadata": {
      "needs_background": "light"
     },
     "output_type": "display_data"
    }
   ],
   "source": [
    "# Total observations by park\n",
    "park_observations = observations.groupby('park_name')['observations'].sum()\n",
    "\n",
    "# Sort to find highest and lowest parks\n",
    "park_observations_sorted = park_observations.sort_values()\n",
    "\n",
    "# Display results\n",
    "print(\"Park with lowest species observations:\", park_observations_sorted.head(1))\n",
    "print(\"Park with highest species observations:\", park_observations_sorted.tail(1))\n",
    "\n",
    "# Plot observations by park\n",
    "plt.figure(figsize=(10, 6))\n",
    "sns.barplot(x=park_observations_sorted.values, y=park_observations_sorted.index, palette='viridis')\n",
    "plt.title('Total Species Observations by Park')\n",
    "plt.xlabel('Total Observations')\n",
    "plt.ylabel('Park Name')\n",
    "plt.show()"
   ]
  },
  {
   "cell_type": "markdown",
   "id": "dc033a31",
   "metadata": {},
   "source": [
    "### **Total Species Observations by Park**\n",
    "\n",
    "The bar plot illustrates the total number of species observations across different national parks. The park with the highest number of observations stands out clearly, indicating higher biodiversity monitoring activity or a larger number of observed species in that location. Parks with fewer observations may have lower biodiversity, less frequent monitoring, or smaller ecosystems.\n",
    "\n",
    "Understanding this distribution helps prioritize conservation efforts and resource allocation, particularly for parks with significant biodiversity or under-monitored regions.\n"
   ]
  },
  {
   "cell_type": "markdown",
   "id": "9802be3a",
   "metadata": {},
   "source": [
    "### **Focus on Birds and Mammals**\n",
    "\n",
    "For this analysis, the focus is limited to **birds** and **mammals** due to the availability of reliable and complete data. These species categories are well-represented across multiple conservation statuses, including \"Endangered,\" \"Threatened,\" and \"Species of Concern.\" \n",
    "\n",
    "Other categories, such as plants and reptiles, have limited or missing data, which could introduce bias or inaccuracies in the analysis. By narrowing the scope to birds and mammals, the findings can provide more accurate and actionable insights into species conservation trends.\n"
   ]
  },
  {
   "cell_type": "code",
   "execution_count": 24,
   "id": "05e9f161",
   "metadata": {},
   "outputs": [
    {
     "data": {
      "text/html": [
       "<div>\n",
       "<style scoped>\n",
       "    .dataframe tbody tr th:only-of-type {\n",
       "        vertical-align: middle;\n",
       "    }\n",
       "\n",
       "    .dataframe tbody tr th {\n",
       "        vertical-align: top;\n",
       "    }\n",
       "\n",
       "    .dataframe thead th {\n",
       "        text-align: right;\n",
       "    }\n",
       "</style>\n",
       "<table border=\"1\" class=\"dataframe\">\n",
       "  <thead>\n",
       "    <tr style=\"text-align: right;\">\n",
       "      <th></th>\n",
       "      <th>category</th>\n",
       "      <th>scientific_name</th>\n",
       "      <th>common_names</th>\n",
       "      <th>conservation_status</th>\n",
       "    </tr>\n",
       "  </thead>\n",
       "  <tbody>\n",
       "    <tr>\n",
       "      <th>0</th>\n",
       "      <td>Mammal</td>\n",
       "      <td>Clethrionomys gapperi gapperi</td>\n",
       "      <td>Gapper's Red-Backed Vole</td>\n",
       "      <td>No Intervention</td>\n",
       "    </tr>\n",
       "    <tr>\n",
       "      <th>1</th>\n",
       "      <td>Mammal</td>\n",
       "      <td>Bos bison</td>\n",
       "      <td>American Bison, Bison</td>\n",
       "      <td>No Intervention</td>\n",
       "    </tr>\n",
       "    <tr>\n",
       "      <th>2</th>\n",
       "      <td>Mammal</td>\n",
       "      <td>Bos taurus</td>\n",
       "      <td>Aurochs, Aurochs, Domestic Cattle (Feral), Dom...</td>\n",
       "      <td>No Intervention</td>\n",
       "    </tr>\n",
       "    <tr>\n",
       "      <th>3</th>\n",
       "      <td>Mammal</td>\n",
       "      <td>Ovis aries</td>\n",
       "      <td>Domestic Sheep, Mouflon, Red Sheep, Sheep (Feral)</td>\n",
       "      <td>No Intervention</td>\n",
       "    </tr>\n",
       "    <tr>\n",
       "      <th>4</th>\n",
       "      <td>Mammal</td>\n",
       "      <td>Cervus elaphus</td>\n",
       "      <td>Wapiti Or Elk</td>\n",
       "      <td>No Intervention</td>\n",
       "    </tr>\n",
       "    <tr>\n",
       "      <th>...</th>\n",
       "      <td>...</td>\n",
       "      <td>...</td>\n",
       "      <td>...</td>\n",
       "      <td>...</td>\n",
       "    </tr>\n",
       "    <tr>\n",
       "      <th>4571</th>\n",
       "      <td>Bird</td>\n",
       "      <td>Glaucidium gnoma</td>\n",
       "      <td>Northern Pygmy Owl</td>\n",
       "      <td>No Intervention</td>\n",
       "    </tr>\n",
       "    <tr>\n",
       "      <th>4572</th>\n",
       "      <td>Bird</td>\n",
       "      <td>Otus flammeolus</td>\n",
       "      <td>Flammulated Owl</td>\n",
       "      <td>No Intervention</td>\n",
       "    </tr>\n",
       "    <tr>\n",
       "      <th>4573</th>\n",
       "      <td>Bird</td>\n",
       "      <td>Strix nebulosa</td>\n",
       "      <td>Great Gray Owl</td>\n",
       "      <td>No Intervention</td>\n",
       "    </tr>\n",
       "    <tr>\n",
       "      <th>4574</th>\n",
       "      <td>Bird</td>\n",
       "      <td>Strix occidentalis</td>\n",
       "      <td>Spotted Owl</td>\n",
       "      <td>No Intervention</td>\n",
       "    </tr>\n",
       "    <tr>\n",
       "      <th>4575</th>\n",
       "      <td>Bird</td>\n",
       "      <td>Tyto alba</td>\n",
       "      <td>Barn Owl</td>\n",
       "      <td>No Intervention</td>\n",
       "    </tr>\n",
       "  </tbody>\n",
       "</table>\n",
       "<p>735 rows × 4 columns</p>\n",
       "</div>"
      ],
      "text/plain": [
       "     category                scientific_name  \\\n",
       "0      Mammal  Clethrionomys gapperi gapperi   \n",
       "1      Mammal                      Bos bison   \n",
       "2      Mammal                     Bos taurus   \n",
       "3      Mammal                     Ovis aries   \n",
       "4      Mammal                 Cervus elaphus   \n",
       "...       ...                            ...   \n",
       "4571     Bird               Glaucidium gnoma   \n",
       "4572     Bird                Otus flammeolus   \n",
       "4573     Bird                 Strix nebulosa   \n",
       "4574     Bird             Strix occidentalis   \n",
       "4575     Bird                      Tyto alba   \n",
       "\n",
       "                                           common_names conservation_status  \n",
       "0                              Gapper's Red-Backed Vole     No Intervention  \n",
       "1                                 American Bison, Bison     No Intervention  \n",
       "2     Aurochs, Aurochs, Domestic Cattle (Feral), Dom...     No Intervention  \n",
       "3     Domestic Sheep, Mouflon, Red Sheep, Sheep (Feral)     No Intervention  \n",
       "4                                         Wapiti Or Elk     No Intervention  \n",
       "...                                                 ...                 ...  \n",
       "4571                                 Northern Pygmy Owl     No Intervention  \n",
       "4572                                    Flammulated Owl     No Intervention  \n",
       "4573                                     Great Gray Owl     No Intervention  \n",
       "4574                                        Spotted Owl     No Intervention  \n",
       "4575                                           Barn Owl     No Intervention  \n",
       "\n",
       "[735 rows x 4 columns]"
      ]
     },
     "execution_count": 24,
     "metadata": {},
     "output_type": "execute_result"
    }
   ],
   "source": [
    "# Filter for birds and mammals\n",
    "bird_mammal_data = species[species['category'].isin(['Bird', 'Mammal'])]\n",
    "bird_mammal_data\n"
   ]
  },
  {
   "cell_type": "code",
   "execution_count": 25,
   "id": "05c1bfbf",
   "metadata": {},
   "outputs": [
    {
     "data": {
      "image/png": "[encoded data removed]",
      "text/plain": [
       "<Figure size 576x432 with 1 Axes>"
      ]
     },
     "metadata": {
      "needs_background": "light"
     },
     "output_type": "display_data"
    }
   ],
   "source": [
    "# Distribution of conservation status for birds and mammals\n",
    "conservation_status_distribution = bird_mammal_data['conservation_status'].value_counts()\n",
    "\n",
    "plt.figure(figsize=(8, 6))\n",
    "sns.barplot(x=conservation_status_distribution.values, y=conservation_status_distribution.index, palette='muted')\n",
    "plt.title('Distribution of Conservation Status (Birds and Mammals)')\n",
    "plt.xlabel('Number of Species')\n",
    "plt.ylabel('Conservation Status')\n",
    "plt.show()\n"
   ]
  },
  {
   "cell_type": "code",
   "execution_count": 26,
   "id": "09c92666",
   "metadata": {},
   "outputs": [
    {
     "name": "stdout",
     "output_type": "stream",
     "text": [
      "    scientific_name                            park_name  observations  \\\n",
      "0    Neovison vison  Great Smoky Mountains National Park            77   \n",
      "1    Neovison vison            Yellowstone National Park           218   \n",
      "2    Neovison vison                  Bryce National Park            91   \n",
      "3    Neovison vison               Yosemite National Park           200   \n",
      "4  Spizella pusilla            Yellowstone National Park           228   \n",
      "\n",
      "  category   common_names conservation_status  \n",
      "0   Mammal  American Mink     No Intervention  \n",
      "1   Mammal  American Mink     No Intervention  \n",
      "2   Mammal  American Mink     No Intervention  \n",
      "3   Mammal  American Mink     No Intervention  \n",
      "4     Bird  Field Sparrow     No Intervention  \n"
     ]
    }
   ],
   "source": [
    "# Merge the filtered data with observations\n",
    "merged_bird_mammal_data = observations.merge(bird_mammal_data, on='scientific_name')\n",
    "\n",
    "# Preview the merged dataset\n",
    "print(merged_bird_mammal_data.head())"
   ]
  },
  {
   "cell_type": "code",
   "execution_count": 29,
   "id": "b40b86e5",
   "metadata": {},
   "outputs": [
    {
     "data": {
      "image/png": "[encoded data removed]",
      "text/plain": [
       "<Figure size 720x432 with 1 Axes>"
      ]
     },
     "metadata": {
      "needs_background": "light"
     },
     "output_type": "display_data"
    }
   ],
   "source": [
    "# Filter for endangered species and group by park\n",
    "endangered_species_observations =merged_bird_mammal_data [merged_bird_mammal_data['conservation_status'] == 'Endangered']\n",
    "endangered_observations_by_park = endangered_species_observations.groupby('park_name')['observations'].sum()\n",
    "\n",
    "# Visualize endangered species observations by park\n",
    "plt.figure(figsize=(10, 6))\n",
    "sns.barplot(x=endangered_observations_by_park.values, y=endangered_observations_by_park.index, palette='coolwarm')\n",
    "plt.title('Observations of Endangered Species by Park')\n",
    "plt.xlabel('Total Observations')\n",
    "plt.ylabel('Park Name')\n",
    "plt.show()"
   ]
  },
  {
   "cell_type": "code",
   "execution_count": 27,
   "id": "df9e9531",
   "metadata": {},
   "outputs": [
    {
     "data": {
      "image/png": "[encoded data removed]",
      "text/plain": [
       "<Figure size 576x432 with 1 Axes>"
      ]
     },
     "metadata": {
      "needs_background": "light"
     },
     "output_type": "display_data"
    }
   ],
   "source": [
    "# Group by conservation status and sum observations\n",
    "status_observations = merged_bird_mammal_data.groupby('conservation_status')['observations'].sum()\n",
    "\n",
    "# Visualize observations by conservation status\n",
    "plt.figure(figsize=(8, 6))\n",
    "sns.barplot(x=status_observations.values, y=status_observations.index, palette='muted')\n",
    "plt.title('Total Observations by Conservation Status (Birds and Mammals)')\n",
    "plt.xlabel('Number of Observations')\n",
    "plt.ylabel('Conservation Status')\n",
    "plt.show()"
   ]
  },
  {
   "cell_type": "markdown",
   "id": "c12c829e",
   "metadata": {
    "scrolled": true
   },
   "source": [
    "### **Conclusions**\n",
    "\n",
    "1. **Conservation Status Distribution**  \n",
    "   Most species of birds and mammals are categorized under **\"No Intervention.\"** However, a significant number of species are classified as **\"Species of Concern\"** and **\"Endangered,\"** indicating areas that need conservation efforts.\n",
    "\n",
    "2. **Park Observations**  \n",
    "   Parks like **Yosemite** and **Great Smoky Mountains** have the highest number of species observations. These parks likely have more biodiversity and extensive monitoring programs. Meanwhile, parks with fewer observations may require more attention in terms of research and monitoring.\n",
    "\n",
    "3. **Conservation Success for Birds**  \n",
    "   Birds have a higher number of species in the **\"In Recovery\"** status compared to mammals. This suggests that conservation efforts for birds may be yielding positive results.\n",
    "\n",
    "4. **Endangered Species Hotspots**  \n",
    "   Parks such as **Yellowstone National Park** are critical habitats for endangered species and may need targeted conservation strategies.\n",
    "\n",
    "5. **Species Observations**  \n",
    "   Frequently observed species are less likely to be endangered, whereas species with low observation counts could be at risk due to low population sizes or restricted habitats.\n",
    "\n",
    "6. **Category Differences**  \n",
    "   Mammals show a greater number of species classified as endangered, while birds are more evenly distributed across different conservation statuses.\n",
    "\n"
   ]
  }
 ],
 "metadata": {
  "kernelspec": {
   "display_name": "Python 3 (ipykernel)",
   "language": "python",
   "name": "python3"
  },
  "language_info": {
   "codemirror_mode": {
    "name": "ipython",
    "version": 3
   },
   "file_extension": ".py",
   "mimetype": "text/x-python",
   "name": "python",
   "nbconvert_exporter": "python",
   "pygments_lexer": "ipython3",
   "version": "3.9.12"
  }
 },
 "nbformat": 4,
 "nbformat_minor": 5
}
